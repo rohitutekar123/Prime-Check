{
 "cells": [
  {
   "cell_type": "code",
   "execution_count": 1,
   "id": "87fc2316",
   "metadata": {},
   "outputs": [
    {
     "name": "stdout",
     "output_type": "stream",
     "text": [
      "False\n",
      "False\n"
     ]
    }
   ],
   "source": [
    "def prime_check(num):\n",
    "    for i in range(2,num):\n",
    "        if num%i == 0:\n",
    "            return False\n",
    "        return True\n",
    "print(prime_check(22))\n",
    "print(prime_check(100))"
   ]
  },
  {
   "cell_type": "code",
   "execution_count": 2,
   "id": "f75308eb",
   "metadata": {},
   "outputs": [
    {
     "name": "stdout",
     "output_type": "stream",
     "text": [
      "True\n",
      "False\n"
     ]
    }
   ],
   "source": [
    "def prime_check(n):\n",
    "    for i in range(2,int( 1 + n / 2)):\n",
    "        if n % i == 0:\n",
    "            return False\n",
    "        return True\n",
    "print(prime_check(19))\n",
    "print(prime_check(20))"
   ]
  },
  {
   "cell_type": "code",
   "execution_count": null,
   "id": "6782375c",
   "metadata": {},
   "outputs": [],
   "source": []
  }
 ],
 "metadata": {
  "kernelspec": {
   "display_name": "Python 3 (ipykernel)",
   "language": "python",
   "name": "python3"
  },
  "language_info": {
   "codemirror_mode": {
    "name": "ipython",
    "version": 3
   },
   "file_extension": ".py",
   "mimetype": "text/x-python",
   "name": "python",
   "nbconvert_exporter": "python",
   "pygments_lexer": "ipython3",
   "version": "3.11.3"
  }
 },
 "nbformat": 4,
 "nbformat_minor": 5
}
